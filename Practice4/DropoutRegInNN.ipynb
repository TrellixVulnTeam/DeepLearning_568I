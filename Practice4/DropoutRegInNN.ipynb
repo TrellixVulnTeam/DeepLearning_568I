{
 "cells": [
  {
   "cell_type": "markdown",
   "metadata": {
    "collapsed": true,
    "pycharm": {
     "name": "#%% md\n"
    }
   },
   "source": [
    "You will implement dropout which is a regularization technique for reducing\n",
    "ovefitting in neural networks. Specifically, you will perform forward and backward\n",
    "pass for dropout and test the effects of dropout on a neural network.\n",
    "\n"
   ]
  },
  {
   "cell_type": "code",
   "execution_count": 1,
   "outputs": [
    {
     "name": "stdout",
     "output_type": "stream",
     "text": [
      "run the following from the cs231n directory and try again:\n",
      "python setup.py build_ext --inplace\n",
      "You may also need to restart your iPython kernel\n"
     ]
    }
   ],
   "source": [
    "from __future__ import print_function\n",
    "import os\n",
    "import time\n",
    "import numpy as np\n",
    "import matplotlib\n",
    "import matplotlib.pyplot as plt\n",
    "from cs231n.classifiers.fc_net import *\n",
    "\n",
    "from cs231n.gradient_check import eval_numerical_gradient, eval_numerical_gradient_array\n",
    "from cs231n.solver import Solver\n",
    "from utils import report, run_tasks, makedirs\n",
    "from cs231n.data_utils import get_CIFAR10_data"
   ],
   "metadata": {
    "collapsed": false,
    "pycharm": {
     "name": "#%%\n"
    }
   }
  },
  {
   "cell_type": "code",
   "execution_count": 2,
   "outputs": [],
   "source": [
    "def rel_error(x, y):\n",
    "  \"\"\" returns relative error \"\"\"\n",
    "  return np.max(np.abs(x - y) / (np.maximum(1e-8, np.abs(x) + np.abs(y))))"
   ],
   "metadata": {
    "collapsed": false,
    "pycharm": {
     "name": "#%%\n"
    }
   }
  },
  {
   "cell_type": "code",
   "execution_count": 3,
   "outputs": [],
   "source": [
    "def task1():\n",
    "    '''\n",
    "    In the file cs231n/layers.py, implement the forward pass for dropout. Since dropout behaves differently during training and testing,\n",
    "    make sure to implement the operation for both modes. Once you have done so, run the cell below to test your implementation.\n",
    "    '''\n",
    "    print('*'*30+' Task 1 '+'*'*30)\n",
    "    x = np.random.randn(500, 500) + 10\n",
    "\n",
    "    for p in [0.3, 0.6, 0.75]:\n",
    "        out, _ = dropout_forward(x, {'mode': 'train', 'p': p})\n",
    "        out_test, _ = dropout_forward(x, {'mode': 'test', 'p': p})\n",
    "\n",
    "        print ('Running tests with p = ', p)\n",
    "        print ('Mean of input: ', x.mean())\n",
    "        print ('Mean of train-time output: ', out.mean())\n",
    "        print ('Mean of test-time output: ', out_test.mean())\n",
    "        print ('Fraction of train-time output set to zero: ', (out == 0).mean())\n",
    "        print ('Fraction of test-time output set to zero: ', (out_test == 0).mean())\n",
    "        print()\n",
    "    print('*'*30+' Task 1 completed'+'*'*30)"
   ],
   "metadata": {
    "collapsed": false,
    "pycharm": {
     "name": "#%%\n"
    }
   }
  },
  {
   "cell_type": "code",
   "execution_count": 4,
   "outputs": [
    {
     "name": "stdout",
     "output_type": "stream",
     "text": [
      "****************************** Task 1 ******************************\n",
      "Running tests with p =  0.3\n",
      "Mean of input:  9.999915698356034\n",
      "Mean of train-time output:  10.029234359733225\n",
      "Mean of test-time output:  9.999915698356034\n",
      "Fraction of train-time output set to zero:  0.298136\n",
      "Fraction of test-time output set to zero:  0.0\n",
      "\n",
      "Running tests with p =  0.6\n",
      "Mean of input:  9.999915698356034\n",
      "Mean of train-time output:  9.998463419503691\n",
      "Mean of test-time output:  9.999915698356034\n",
      "Fraction of train-time output set to zero:  0.6001\n",
      "Fraction of test-time output set to zero:  0.0\n",
      "\n",
      "Running tests with p =  0.75\n",
      "Mean of input:  9.999915698356034\n",
      "Mean of train-time output:  9.989059255944367\n",
      "Mean of test-time output:  9.999915698356034\n",
      "Fraction of train-time output set to zero:  0.75024\n",
      "Fraction of test-time output set to zero:  0.0\n",
      "\n",
      "****************************** Task 1 completed******************************\n"
     ]
    }
   ],
   "source": [
    "task1()"
   ],
   "metadata": {
    "collapsed": false,
    "pycharm": {
     "name": "#%%\n"
    }
   }
  },
  {
   "cell_type": "code",
   "execution_count": 5,
   "outputs": [],
   "source": [
    "def task2():\n",
    "    '''\n",
    "    In the file cs231n/layers.py, implement the backward pass for dropout.\n",
    "    After doing so, run the following cell to numerically gradient-check your implementation.\n",
    "    '''\n",
    "    print('*'*30+' Task 2 '+'*'*30)\n",
    "    x = np.random.randn(10, 10) + 10\n",
    "    dout = np.random.randn(*x.shape)\n",
    "\n",
    "    dropout_param = {'mode': 'train', 'p': 0.8, 'seed': 123}\n",
    "    out, cache = dropout_forward(x, dropout_param)\n",
    "    dx = dropout_backward(dout, cache)\n",
    "    dx_num = eval_numerical_gradient_array(lambda xx: dropout_forward(xx, dropout_param)[0], x, dout)\n",
    "\n",
    "    print ('dx relative error: ', rel_error(dx, dx_num))\n",
    "    print('*'*30+' Task 2 completed '+'*'*30)"
   ],
   "metadata": {
    "collapsed": false,
    "pycharm": {
     "name": "#%%\n"
    }
   }
  },
  {
   "cell_type": "code",
   "execution_count": 6,
   "outputs": [
    {
     "name": "stdout",
     "output_type": "stream",
     "text": [
      "****************************** Task 2 ******************************\n",
      "dx relative error:  1.892903846894865e-11\n",
      "****************************** Task 2 completed ******************************\n"
     ]
    }
   ],
   "source": [
    "task2()"
   ],
   "metadata": {
    "collapsed": false,
    "pycharm": {
     "name": "#%%\n"
    }
   }
  },
  {
   "cell_type": "code",
   "execution_count": 7,
   "outputs": [],
   "source": [
    "def task3(data):\n",
    "    '''\n",
    "    As an experiment, we will train a pair of two-layer networks on 500 training examples: one will use no dropout,\n",
    "    and one will use a dropout probability of 0.75. We will then visualize the training and validation accuracies of the two networks over time.\n",
    "    Train two identical nets, one with dropout and one without\n",
    "    Implement the following:\n",
    "    1. a two layer net using the FullyConnectedNet from fc_net.py and\n",
    "    Solver class with hiddensize as  300 with dropout value '0.75' .\n",
    "    2. a two layer net using the FullyConnectedNet from fc_net.py and\n",
    "    Solver class with hiddensize as  300 without dropout.\n",
    "    3. plot the train_acc_history and val_acc_history for both of the\n",
    "    training done above in the same plot'\n",
    "    use argument dropout for the FullyConnectedNet to provide a dropout\n",
    "    value\n",
    "    use following parameters for FullyConnectedNet and Solver:\n",
    "        1.num_epochs=25\n",
    "        2.batch_size=100\n",
    "        3.update_rule='adam\n",
    "        4.use_batchnorm=True\n",
    "    '''\n",
    "    print('*'*30+' Task 3 '+'*'*30)\n",
    "    num_train = 500\n",
    "    small_data = {\n",
    "    'X_train': data['X_train'][:num_train],\n",
    "    'y_train': data['y_train'][:num_train],\n",
    "    'X_val': data['X_val'],\n",
    "    'y_val': data['y_val'],\n",
    "    }\n",
    "    #############################################################################################################################\n",
    "    #                                     TODO                                                                                  #\n",
    "    #############################################################################################################################\n",
    "    # 1. a two layer net using the FullyConnectedNet from fc_net.py and Solver class with hiddensize as  300 with dropout value '0.75' .\n",
    "    # 2. a two layer net using the FullyConnectedNet from fc_net.py and Solver class with hiddensize as  300 without dropout.\n",
    "    # 3. plot the train_acc_history and val_acc_history for both of the training done above in the same plot\n",
    "    ################################################################################\n",
    "    modelwithdropout = FullyConnectedNet([300], dropout=0.75, use_batchnorm=True)\n",
    "    model = FullyConnectedNet([300], use_batchnorm=True)\n",
    "    solvedropout = Solver(modelwithdropout, data= small_data, num_epochs=25, batch_size=100,\n",
    "                    update_rule='adam')\n",
    "\n",
    "    solvedropout.train()\n",
    "    print('*'*30+' Model With Dropout training Completed '+'*'*30)\n",
    "    solve = Solver(model, data= small_data, num_epochs=25, batch_size=100, update_rule='adam')\n",
    "    solve.train()\n",
    "    print('*'*30+' Model Without Dropout training Completed '+'*'*30)\n",
    "    plt.plot(solvedropout.train_acc_history, label = 'Dropout Train accuracy')\n",
    "    plt.plot(solvedropout.val_acc_history, label = 'Dropout Val accuracy')\n",
    "    plt.plot(solve.train_acc_history, label = 'Without Dropout Train accuracy')\n",
    "    plt.plot(solve.val_acc_history, label = 'Without Dropout Val accuracy')\n",
    "    plt.legend()\n",
    "    plt.show()\n",
    "    print('*'*30+' Task 3 completed '+'*'*30)"
   ],
   "metadata": {
    "collapsed": false,
    "pycharm": {
     "name": "#%%\n"
    }
   }
  },
  {
   "cell_type": "code",
   "execution_count": 8,
   "outputs": [],
   "source": [
    "data = get_CIFAR10_data()"
   ],
   "metadata": {
    "collapsed": false,
    "pycharm": {
     "name": "#%%\n"
    }
   }
  },
  {
   "cell_type": "code",
   "execution_count": 9,
   "outputs": [
    {
     "name": "stdout",
     "output_type": "stream",
     "text": [
      "****************************** Task 3 ******************************\n",
      "(Iteration 1 / 125) loss: 2.366773\n",
      "(Epoch 0 / 25) train acc: 0.230000; val_acc: 0.172000\n",
      "(Epoch 1 / 25) train acc: 0.292000; val_acc: 0.221000\n",
      "(Epoch 2 / 25) train acc: 0.338000; val_acc: 0.267000\n",
      "(Iteration 11 / 125) loss: 2.058123\n",
      "(Epoch 3 / 25) train acc: 0.340000; val_acc: 0.270000\n",
      "(Epoch 4 / 25) train acc: 0.356000; val_acc: 0.269000\n",
      "(Iteration 21 / 125) loss: 1.908619\n",
      "(Epoch 5 / 25) train acc: 0.404000; val_acc: 0.295000\n",
      "(Epoch 6 / 25) train acc: 0.448000; val_acc: 0.305000\n",
      "(Iteration 31 / 125) loss: 1.864955\n",
      "(Epoch 7 / 25) train acc: 0.504000; val_acc: 0.328000\n",
      "(Epoch 8 / 25) train acc: 0.530000; val_acc: 0.331000\n",
      "(Iteration 41 / 125) loss: 1.709196\n",
      "(Epoch 9 / 25) train acc: 0.558000; val_acc: 0.327000\n",
      "(Epoch 10 / 25) train acc: 0.586000; val_acc: 0.332000\n",
      "(Iteration 51 / 125) loss: 1.635764\n",
      "(Epoch 11 / 25) train acc: 0.604000; val_acc: 0.352000\n",
      "(Epoch 12 / 25) train acc: 0.658000; val_acc: 0.344000\n",
      "(Iteration 61 / 125) loss: 1.530664\n",
      "(Epoch 13 / 25) train acc: 0.652000; val_acc: 0.341000\n",
      "(Epoch 14 / 25) train acc: 0.684000; val_acc: 0.340000\n",
      "(Iteration 71 / 125) loss: 1.279391\n",
      "(Epoch 15 / 25) train acc: 0.710000; val_acc: 0.331000\n",
      "(Epoch 16 / 25) train acc: 0.728000; val_acc: 0.334000\n",
      "(Iteration 81 / 125) loss: 1.265459\n",
      "(Epoch 17 / 25) train acc: 0.746000; val_acc: 0.324000\n",
      "(Epoch 18 / 25) train acc: 0.742000; val_acc: 0.326000\n",
      "(Iteration 91 / 125) loss: 1.065812\n",
      "(Epoch 19 / 25) train acc: 0.768000; val_acc: 0.330000\n",
      "(Epoch 20 / 25) train acc: 0.806000; val_acc: 0.345000\n",
      "(Iteration 101 / 125) loss: 1.063927\n",
      "(Epoch 21 / 25) train acc: 0.822000; val_acc: 0.334000\n",
      "(Epoch 22 / 25) train acc: 0.832000; val_acc: 0.322000\n",
      "(Iteration 111 / 125) loss: 1.089413\n",
      "(Epoch 23 / 25) train acc: 0.840000; val_acc: 0.315000\n",
      "(Epoch 24 / 25) train acc: 0.854000; val_acc: 0.315000\n",
      "(Iteration 121 / 125) loss: 0.969537\n",
      "(Epoch 25 / 25) train acc: 0.860000; val_acc: 0.317000\n",
      "****************************** Model With Dropout training Completed ******************************\n",
      "(Iteration 1 / 125) loss: 2.315345\n",
      "(Epoch 0 / 25) train acc: 0.278000; val_acc: 0.229000\n",
      "(Epoch 1 / 25) train acc: 0.414000; val_acc: 0.279000\n",
      "(Epoch 2 / 25) train acc: 0.420000; val_acc: 0.293000\n",
      "(Iteration 11 / 125) loss: 1.822493\n",
      "(Epoch 3 / 25) train acc: 0.486000; val_acc: 0.323000\n",
      "(Epoch 4 / 25) train acc: 0.514000; val_acc: 0.322000\n",
      "(Iteration 21 / 125) loss: 1.609581\n",
      "(Epoch 5 / 25) train acc: 0.584000; val_acc: 0.298000\n",
      "(Epoch 6 / 25) train acc: 0.622000; val_acc: 0.307000\n",
      "(Iteration 31 / 125) loss: 1.332857\n",
      "(Epoch 7 / 25) train acc: 0.692000; val_acc: 0.333000\n",
      "(Epoch 8 / 25) train acc: 0.724000; val_acc: 0.321000\n",
      "(Iteration 41 / 125) loss: 1.143738\n",
      "(Epoch 9 / 25) train acc: 0.776000; val_acc: 0.336000\n",
      "(Epoch 10 / 25) train acc: 0.824000; val_acc: 0.318000\n",
      "(Iteration 51 / 125) loss: 0.799325\n",
      "(Epoch 11 / 25) train acc: 0.874000; val_acc: 0.322000\n",
      "(Epoch 12 / 25) train acc: 0.912000; val_acc: 0.307000\n",
      "(Iteration 61 / 125) loss: 0.627325\n",
      "(Epoch 13 / 25) train acc: 0.936000; val_acc: 0.312000\n",
      "(Epoch 14 / 25) train acc: 0.936000; val_acc: 0.302000\n",
      "(Iteration 71 / 125) loss: 0.484382\n",
      "(Epoch 15 / 25) train acc: 0.964000; val_acc: 0.302000\n",
      "(Epoch 16 / 25) train acc: 0.968000; val_acc: 0.310000\n",
      "(Iteration 81 / 125) loss: 0.340096\n",
      "(Epoch 17 / 25) train acc: 0.980000; val_acc: 0.298000\n",
      "(Epoch 18 / 25) train acc: 0.984000; val_acc: 0.297000\n",
      "(Iteration 91 / 125) loss: 0.219058\n",
      "(Epoch 19 / 25) train acc: 0.990000; val_acc: 0.297000\n",
      "(Epoch 20 / 25) train acc: 0.990000; val_acc: 0.303000\n",
      "(Iteration 101 / 125) loss: 0.127209\n",
      "(Epoch 21 / 25) train acc: 0.996000; val_acc: 0.297000\n",
      "(Epoch 22 / 25) train acc: 0.992000; val_acc: 0.300000\n",
      "(Iteration 111 / 125) loss: 0.169548\n",
      "(Epoch 23 / 25) train acc: 0.998000; val_acc: 0.300000\n",
      "(Epoch 24 / 25) train acc: 1.000000; val_acc: 0.301000\n",
      "(Iteration 121 / 125) loss: 0.101259\n",
      "(Epoch 25 / 25) train acc: 1.000000; val_acc: 0.294000\n",
      "****************************** Model Without Dropout training Completed ******************************\n"
     ]
    },
    {
     "data": {
      "text/plain": "<Figure size 432x288 with 1 Axes>",
      "image/png": "[encoded data removed]"
     },
     "metadata": {
      "needs_background": "light"
     },
     "output_type": "display_data"
    },
    {
     "name": "stdout",
     "output_type": "stream",
     "text": [
      "****************************** Task 3 completed ******************************\n"
     ]
    }
   ],
   "source": [
    "task3(data)"
   ],
   "metadata": {
    "collapsed": false,
    "pycharm": {
     "name": "#%%\n"
    }
   }
  }
 ],
 "metadata": {
  "kernelspec": {
   "display_name": "Python 3",
   "language": "python",
   "name": "python3"
  },
  "language_info": {
   "codemirror_mode": {
    "name": "ipython",
    "version": 2
   },
   "file_extension": ".py",
   "mimetype": "text/x-python",
   "name": "python",
   "nbconvert_exporter": "python",
   "pygments_lexer": "ipython2",
   "version": "2.7.6"
  }
 },
 "nbformat": 4,
 "nbformat_minor": 0
}