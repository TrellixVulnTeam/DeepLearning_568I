{
  "nbformat": 4,
  "nbformat_minor": 0,
  "metadata": {
    "colab": {
      "name": "hw6_fcn.ipynb",
      "version": "0.3.2",
      "provenance": [],
      "collapsed_sections": []
    },
    "kernelspec": {
      "name": "python3",
      "display_name": "Python 3"
    },
    "accelerator": "GPU"
  },
  "cells": [
    {
      "metadata": {
        "id": "wfZRLyTK4_h1",
        "colab_type": "text"
      },
      "cell_type": "markdown",
      "source": [
        "# **Click on Runtime and select Change runtime type option. And then choose GPU from the Hardware Accelerator.**\n"
      ]
    },
    {
      "metadata": {
        "id": "h23cMtn90NFG",
        "colab_type": "text"
      },
      "cell_type": "markdown",
      "source": [
        "# **Mount your Google drive **"
      ]
    },
    {
      "metadata": {
        "id": "-Ohpk8eayI_-",
        "colab_type": "code",
        "colab": {}
      },
      "cell_type": "code",
      "source": [
        "from google.colab import drive\n",
        "drive.mount('/content/drive')"
      ],
      "execution_count": 0,
      "outputs": []
    },
    {
      "metadata": {
        "id": "lGpvFS3L0WNC",
        "colab_type": "text"
      },
      "cell_type": "markdown",
      "source": [
        "# **List the files on your google drive**"
      ]
    },
    {
      "metadata": {
        "id": "Izg2vcgYypAK",
        "colab_type": "code",
        "colab": {}
      },
      "cell_type": "code",
      "source": [
        "! ls '/content/drive/My Drive'"
      ],
      "execution_count": 0,
      "outputs": []
    },
    {
      "metadata": {
        "id": "V_L1X0iT09fn",
        "colab_type": "text"
      },
      "cell_type": "markdown",
      "source": [
        "# Change the directory of your **drive**"
      ]
    },
    {
      "metadata": {
        "id": "8TrM8XCz0tx6",
        "colab_type": "code",
        "colab": {}
      },
      "cell_type": "code",
      "source": [
        "import os\n",
        "os.chdir('/content/drive/My Drive/hw6b_taskfcn')"
      ],
      "execution_count": 0,
      "outputs": []
    },
    {
      "metadata": {
        "id": "nI-UZZcZ1z8d",
        "colab_type": "text"
      },
      "cell_type": "markdown",
      "source": [
        "# **Import statements**"
      ]
    },
    {
      "metadata": {
        "id": "pNzQOErFx69b",
        "colab_type": "code",
        "colab": {}
      },
      "cell_type": "code",
      "source": [
        "import tensorflow as tf\n",
        "import os.path\n",
        "import warnings\n",
        "import glob\n",
        "import data_utils"
      ],
      "execution_count": 0,
      "outputs": []
    },
    {
      "metadata": {
        "id": "P9P-nnWax690",
        "colab_type": "text"
      },
      "cell_type": "markdown",
      "source": [
        "# Function to load the pretrained model provided    (10 points)"
      ]
    },
    {
      "metadata": {
        "id": "vB8M0waFx698",
        "colab_type": "code",
        "colab": {}
      },
      "cell_type": "code",
      "source": [
        "def load_model(sess, model_path):\n",
        "    \"\"\"\n",
        "    Load Pretrained VGG Model into TensorFlow.\n",
        "    sess: Tensorflow session\n",
        "    model_path: Path to the vgg folder, it was provided to you\n",
        "    return: return tuple of tensors (input_image, keep_prob, out_layer3, out_layer4, out_layer7)\n",
        "    \"\"\"\n",
        "    # TODO: Implement function\n",
        "    # to load the model and weights use tf.saved_model.loader.load\n",
        "    # Use this tensor names to fetch the layers from pretrained vgg model:\n",
        "    # input_tensor         :  'image_input:0'\n",
        "    # keep_prob_tensor_name :  'keep_prob:0'\n",
        "    # out_layer3_tensor    :  'layer3_out:0'\n",
        "    # out_layer4_tensor    :  'layer4_out:0'\n",
        "    # out_layer7_tensor    :  'layer7_out:0' \n",
        "    # TODO load the model\n",
        "    vgg_tag = 'vgg16'\n",
        "    input_tensor         =   # TODO \n",
        "    keep_prob_tensor     =   # TODO\n",
        "    out_layer3_tensor    =   # TODO\n",
        "    out_layer4_tensor    =   # TODO\n",
        "    out_layer7_tensor    =   # TODO\n",
        "    \n",
        "    return None, None, None, None, None"
      ],
      "execution_count": 0,
      "outputs": []
    },
    {
      "metadata": {
        "id": "QcAMjks1x6-N",
        "colab_type": "text"
      },
      "cell_type": "markdown",
      "source": [
        "# Create FCN-8 architecture                    (10 points)"
      ]
    },
    {
      "metadata": {
        "id": "6hTYUFjQx6-R",
        "colab_type": "code",
        "colab": {}
      },
      "cell_type": "code",
      "source": [
        "def create_layers(layer3_out, layer4_out, layer7_out, num_classes):\n",
        "    \"\"\"\n",
        "    Pretrained model provided is VGG\n",
        "    Build a FCN model. Please read the paper Fully Convolutional Networks to complete this task.\n",
        "    layer3_out : Output Tensor of Layer 3 VGG model\n",
        "    layer4_out : Output Tensor of Layer 4 VGG model\n",
        "    layer7_out : Output Tensor of Layer 7 VGG model\n",
        "    return: Tensor for the last layer of output\n",
        "    \"\"\"\n",
        "    # TODO: Implement function\n",
        "    return None"
      ],
      "execution_count": 0,
      "outputs": []
    },
    {
      "metadata": {
        "id": "ujYAjW7ox6-f",
        "colab_type": "text"
      },
      "cell_type": "markdown",
      "source": [
        "# Define loss function and optimizer             (15 points)"
      ]
    },
    {
      "metadata": {
        "id": "m_JAkylBx6-j",
        "colab_type": "code",
        "colab": {}
      },
      "cell_type": "code",
      "source": [
        "def optimizer(network_last_layer, actual_label, learning_rate, n_classes):\n",
        "    \"\"\"\n",
        "    In this function create ops for tensorflow loss and optimizer\n",
        "    Params:\n",
        "    network_last_layer: Tensorflow tensor for the last layer in the neural network\n",
        "    actual_label: Tensorflow placeholder for the actual label of the image\n",
        "    learning_rate: Tensroflow placeholder for the learning rate\n",
        "    n_classes: Number of classes\n",
        "    return: Tuple of (logits, training_op, crossentropy_loss)\n",
        "    \"\"\"\n",
        "    # TODO: Implement function\n",
        "    return None, None, None"
      ],
      "execution_count": 0,
      "outputs": []
    },
    {
      "metadata": {
        "id": "SJDtyQ_Gx6-s",
        "colab_type": "text"
      },
      "cell_type": "markdown",
      "source": [
        "# Method to perform training             (25 points)"
      ]
    },
    {
      "metadata": {
        "id": "DbPc8wzlx6-v",
        "colab_type": "code",
        "colab": {}
      },
      "cell_type": "code",
      "source": [
        "def run_fcn():\n",
        "    n_classes = 2\n",
        "    image_shape = (160, 576)\n",
        "    data_dir = './data'\n",
        "    runs_dir = './runs'\n",
        "    NUM_EPOCHS = # initialize number of epochs # We used 20 to get the results provided in the document.\n",
        "    BATCH_SIZE  = # initialize with batch size for training # We used 1 to get the results provided in the document.\n",
        "    #Get training data iterator \n",
        "    iterator = data_utils.get_training_iterator(os.path.join(data_dir, 'data/training'), image_shape, NUM_EPOCHS, BATCH_SIZE)\n",
        "    imagebx_labelbx = iterator.get_next()\n",
        "    config = tf.ConfigProto()\n",
        "    config.gpu_options.allow_growth=True\n",
        "    with tf.Session(config=config) as sess:\n",
        "        # Path to vgg model\n",
        "        vggmodel_path = os.path.join(data_dir, 'vgg_pretrained')\n",
        "\n",
        "        # TODO: Build the Fully Convolutional Network using load_model, create_layers, and optimizer function\n",
        "        \n",
        "        # TODO: Train the FCN network by iterating the tf.data iterator. Check the examples provided in the document \n",
        "\n",
        "    \n",
        "\n",
        "    # TODO: Once training is completed, use the trained model on test dataset.\n",
        "    #data_utils.test_images(RUNS_DIRECTORY, DATA_DIRECTORY, sess, logits,  keep_prob, image_input, image_shape)"
      ],
      "execution_count": 0,
      "outputs": []
    },
    {
      "metadata": {
        "id": "1xlRvmVqx6-5",
        "colab_type": "text"
      },
      "cell_type": "markdown",
      "source": [
        "# After completing the code in above cells, call run_fcn() method."
      ]
    },
    {
      "metadata": {
        "id": "zxh5r3xlx6_D",
        "colab_type": "code",
        "colab": {}
      },
      "cell_type": "code",
      "source": [
        "if __name__ == \"__main__\":\n",
        "    run_fcn()"
      ],
      "execution_count": 0,
      "outputs": []
    }
  ]
}