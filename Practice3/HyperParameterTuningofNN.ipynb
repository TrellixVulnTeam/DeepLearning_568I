{
 "cells": [
  {
   "cell_type": "markdown",
   "source": [
    "Implement a neural network in a modularized way and then perform\n",
    "hyperparameter tuning.\n",
    "\n"
   ],
   "metadata": {
    "collapsed": false,
    "pycharm": {
     "name": "#%% md\n"
    }
   }
  },
  {
   "cell_type": "code",
   "execution_count": 2,
   "metadata": {
    "collapsed": true,
    "pycharm": {
     "name": "#%%from __future__ import print_function\n"
    }
   },
   "outputs": [
    {
     "name": "stdout",
     "output_type": "stream",
     "text": [
      "run the following from the cs231n directory and try again:\n",
      "python setup.py build_ext --inplace\n",
      "You may also need to restart your iPython kernel\n"
     ]
    }
   ],
   "source": [
    "import time\n",
    "import numpy as np\n",
    "import matplotlib\n",
    "import matplotlib.pyplot as plt\n",
    "from cs231n.classifiers.fc_net import *\n",
    "from cs231n.data_utils import get_CIFAR10_data\n",
    "from cs231n.gradient_check import eval_numerical_gradient, eval_numerical_gradient_array\n",
    "from cs231n.solver import Solver\n",
    "from utils import report, run_tasks, makedirs\n",
    "from cs231n.layer_utils import affine_relu_forward, affine_relu_backward\n",
    "import warnings\n",
    "warnings.filterwarnings(\"ignore\")\n",
    "from cs231n.optim import sgd_momentum\n",
    "\n"
   ]
  },
  {
   "cell_type": "code",
   "execution_count": 3,
   "outputs": [],
   "source": [
    "def rel_error(x, y):\n",
    "  \"\"\" returns relative error \"\"\"\n",
    "  return np.max(np.abs(x - y) / (np.maximum(1e-8, np.abs(x) + np.abs(y))))"
   ],
   "metadata": {
    "collapsed": false,
    "pycharm": {
     "name": "#%%\n"
    }
   }
  },
  {
   "cell_type": "code",
   "source": [
    "def task1():\n",
    "    '''\n",
    "    Affine layer: foward - Open the file cs231n/layers.py and implement the affine_forward function.\n",
    "    Once you are done you can test your implementaion by running the following:\n",
    "    '''\n",
    "    print('*'*30+' Task 1 '+'*'*30)\n",
    "    num_inputs = 2\n",
    "    input_shape = (4, 5, 6)\n",
    "    output_dim = 3\n",
    "\n",
    "    input_size = num_inputs * np.prod(input_shape)\n",
    "    weight_size = output_dim * np.prod(input_shape)\n",
    "\n",
    "    x = np.linspace(-0.1, 0.5, num=input_size).reshape(num_inputs, *input_shape)\n",
    "    w = np.linspace(-0.2, 0.3, num=weight_size).reshape(np.prod(input_shape), output_dim)\n",
    "    b = np.linspace(-0.3, 0.1, num=output_dim)\n",
    "\n",
    "    out, _ = affine_forward(x, w, b)\n",
    "    correct_out = np.array([[ 1.49834967,  1.70660132,  1.91485297],\n",
    "                            [ 3.25553199,  3.5141327,   3.77273342]])\n",
    "\n",
    "    # Compare your output with ours. The error should be around 1e-9.\n",
    "    print ('Testing affine_forward function:')\n",
    "    print ('difference: ', rel_error(out, correct_out))\n",
    "    print('*'*30+' Task 1 completed '+'*'*30)"
   ],
   "metadata": {
    "collapsed": false,
    "pycharm": {
     "name": "#%%\n"
    }
   },
   "execution_count": 4,
   "outputs": []
  },
  {
   "cell_type": "code",
   "execution_count": 5,
   "outputs": [
    {
     "name": "stdout",
     "output_type": "stream",
     "text": [
      "****************************** Task 1 ******************************\n",
      "Testing affine_forward function:\n",
      "difference:  9.769849468192957e-10\n",
      "****************************** Task 1 completed ******************************\n"
     ]
    }
   ],
   "source": [
    "task1()"
   ],
   "metadata": {
    "collapsed": false,
    "pycharm": {
     "name": "#%%\n"
    }
   }
  },
  {
   "cell_type": "code",
   "execution_count": 6,
   "outputs": [],
   "source": [
    "def task2():\n",
    "    '''\n",
    "    Affine layer: backward Now implement the affine_backward function in cs231n/layers.py\n",
    "    and test your implementation using numeric gradient checking.\n",
    "    '''\n",
    "    print('*'*30+' Task 2 '+'*'*30)\n",
    "    x = np.random.randn(10, 2, 3)\n",
    "    w = np.random.randn(6, 5)\n",
    "    b = np.random.randn(5)\n",
    "    dout = np.random.randn(10, 5)\n",
    "\n",
    "    dx_num = eval_numerical_gradient_array(lambda x: affine_forward(x, w, b)[0], x, dout)\n",
    "    dw_num = eval_numerical_gradient_array(lambda w: affine_forward(x, w, b)[0], w, dout)\n",
    "    db_num = eval_numerical_gradient_array(lambda b: affine_forward(x, w, b)[0], b, dout)\n",
    "\n",
    "    _, cache = affine_forward(x, w, b)\n",
    "    dx, dw, db = affine_backward(dout, cache)\n",
    "\n",
    "    # The error should be around 1e-10\n",
    "    print ('Testing affine_backward function:')\n",
    "    print ('dx error: ', rel_error(dx_num, dx))\n",
    "    print ('dw error: ', rel_error(dw_num, dw))\n",
    "    print ('db error: ', rel_error(db_num, db))\n",
    "    print('*'*30+' Task 2 completed '+'*'*30)"
   ],
   "metadata": {
    "collapsed": false,
    "pycharm": {
     "name": "#%%\n"
    }
   }
  },
  {
   "cell_type": "code",
   "execution_count": 7,
   "outputs": [
    {
     "name": "stdout",
     "output_type": "stream",
     "text": [
      "****************************** Task 2 ******************************\n",
      "Testing affine_backward function:\n",
      "dx error:  3.212888085363629e-10\n",
      "dw error:  3.133965063984431e-10\n",
      "db error:  5.672869332672615e-12\n",
      "****************************** Task 2 completed ******************************\n"
     ]
    }
   ],
   "source": [
    "task2()"
   ],
   "metadata": {
    "collapsed": false,
    "pycharm": {
     "name": "#%%\n"
    }
   }
  },
  {
   "cell_type": "code",
   "execution_count": 8,
   "outputs": [],
   "source": [
    "def task3():\n",
    "    '''\n",
    "    ReLU layer: forward - Implement the forward pass for the ReLU activation function in\n",
    "    the relu_forward function in cs231n/layers.py and test your implementation using the following:\n",
    "    '''\n",
    "    print('*'*30+' Task 3 '+'*'*30)\n",
    "    x = np.linspace(-0.5, 0.5, num=12).reshape(3, 4)\n",
    "\n",
    "    out, _ = relu_forward(x)\n",
    "    correct_out = np.array([[ 0.,          0.,          0.,          0.,        ],\n",
    "                            [ 0.,          0.,          0.04545455,  0.13636364,],\n",
    "                            [ 0.22727273,  0.31818182,  0.40909091,  0.5,       ]])\n",
    "\n",
    "    # Compare your output with ours. The error should be around 1e-8\n",
    "    print ('Testing relu_forward function:')\n",
    "    print ('difference: ', rel_error(out, correct_out))\n",
    "    print('*'*30+' Task 3 completed'+'*'*30)"
   ],
   "metadata": {
    "collapsed": false,
    "pycharm": {
     "name": "#%%\n"
    }
   }
  },
  {
   "cell_type": "code",
   "execution_count": 9,
   "outputs": [
    {
     "name": "stdout",
     "output_type": "stream",
     "text": [
      "****************************** Task 3 ******************************\n",
      "Testing relu_forward function:\n",
      "difference:  4.999999798022158e-08\n",
      "****************************** Task 3 completed******************************\n"
     ]
    }
   ],
   "source": [
    "task3()"
   ],
   "metadata": {
    "collapsed": false,
    "pycharm": {
     "name": "#%%\n"
    }
   }
  },
  {
   "cell_type": "code",
   "execution_count": 10,
   "outputs": [],
   "source": [
    "def task4():\n",
    "    '''\n",
    "    ReLU layer: backward - Now implement the backward pass for the ReLU activation function in the\n",
    "    relu_backward function in cs231n/layers.py and test your implementation using numeric gradient checking:\n",
    "    '''\n",
    "    print('*'*30+' Task 4 '+'*'*30)\n",
    "    x = np.random.randn(10, 10)\n",
    "    dout = np.random.randn(*x.shape)\n",
    "\n",
    "    dx_num = eval_numerical_gradient_array(lambda x: relu_forward(x)[0], x, dout)\n",
    "\n",
    "    _, cache = relu_forward(x)\n",
    "    dx = relu_backward(dout, cache)\n",
    "\n",
    "    # The error should be around 1e-12\n",
    "    print ('Testing relu_backward function:')\n",
    "    print ('dx error: ', rel_error(dx_num, dx))\n",
    "    print('*'*30+' Task 4 completed'+'*'*30)"
   ],
   "metadata": {
    "collapsed": false,
    "pycharm": {
     "name": "#%%\n"
    }
   }
  },
  {
   "cell_type": "code",
   "execution_count": 11,
   "outputs": [
    {
     "name": "stdout",
     "output_type": "stream",
     "text": [
      "****************************** Task 4 ******************************\n",
      "Testing relu_backward function:\n",
      "dx error:  3.2756397459906812e-12\n",
      "****************************** Task 4 completed******************************\n"
     ]
    }
   ],
   "source": [
    "task4()"
   ],
   "metadata": {
    "collapsed": false,
    "pycharm": {
     "name": "#%%\n"
    }
   }
  },
  {
   "cell_type": "code",
   "execution_count": 12,
   "outputs": [],
   "source": [
    "def task5(data):\n",
    "    '''\n",
    "    Following a more modular design, for this assignment we have split the\n",
    "    logic for training models into a separate class.\n",
    "    Open the file cs231n/solver.py and read through it to\n",
    "    familiarize yourself with the API.\n",
    "    After doing so, use a Solver instance to train a\n",
    "    TwoLayerNet that achieves at least 50% accuracy\n",
    "    on the validation set by only changing lr_decay and learning_rate.\n",
    "    Change learning rates and learning rate decay with different values.\n",
    "    '''\n",
    "    print('*'*30+' Task 5 '+'*'*30)\n",
    "    model = TwoLayerNet()\n",
    "    solver = None\n",
    "    solver = Solver(model, data,\n",
    "                    update_rule='sgd',\n",
    "                    optim_config={\n",
    "                        'learning_rate': 1e-3,  #OK to change this\n",
    "                    },\n",
    "                    lr_decay=0.9,  #OK to change this\n",
    "                    num_epochs=10, batch_size=100,\n",
    "                    print_every=100)\n",
    "    solver.train()\n",
    "    print ('solver.train_acc_history:', solver.train_acc_history)\n",
    "    print( 'solver.val_acc_history:', solver.val_acc_history)\n",
    "    plt.subplot(2, 1, 1)\n",
    "    plt.title('Training loss')\n",
    "    plt.plot(solver.loss_history)\n",
    "    plt.xlabel('Iteration')\n",
    "    plt.subplot(2, 1, 2)\n",
    "    plt.title('Accuracy')\n",
    "    plt.plot(solver.train_acc_history, '-o', label='train')\n",
    "    plt.plot(solver.val_acc_history, '-o', label='val')\n",
    "    plt.plot([0.5] * len(solver.val_acc_history), 'k--')\n",
    "    plt.xlabel('Epoch')\n",
    "    plt.legend(loc='lower right')\n",
    "    plt.gcf().set_size_inches(15, 12)\n",
    "    print('*'*30+' Task 5 completed '+'*'*30)"
   ],
   "metadata": {
    "collapsed": false,
    "pycharm": {
     "name": "#%%\n"
    }
   }
  },
  {
   "cell_type": "code",
   "execution_count": 13,
   "outputs": [],
   "source": [
    "data = get_CIFAR10_data()"
   ],
   "metadata": {
    "collapsed": false,
    "pycharm": {
     "name": "#%%\n"
    }
   }
  },
  {
   "cell_type": "code",
   "execution_count": 14,
   "outputs": [
    {
     "name": "stdout",
     "output_type": "stream",
     "text": [
      "****************************** Task 5 ******************************\n",
      "(Iteration 1 / 4900) loss: 2.300425\n",
      "(Epoch 0 / 10) train acc: 0.190000; val_acc: 0.158000\n",
      "(Iteration 101 / 4900) loss: 1.956304\n",
      "(Iteration 201 / 4900) loss: 1.795255\n",
      "(Iteration 301 / 4900) loss: 1.684259\n",
      "(Iteration 401 / 4900) loss: 1.496003\n",
      "(Epoch 1 / 10) train acc: 0.455000; val_acc: 0.446000\n",
      "(Iteration 501 / 4900) loss: 1.625916\n",
      "(Iteration 601 / 4900) loss: 1.488858\n",
      "(Iteration 701 / 4900) loss: 1.505297\n",
      "(Iteration 801 / 4900) loss: 1.259228\n",
      "(Iteration 901 / 4900) loss: 1.385086\n",
      "(Epoch 2 / 10) train acc: 0.488000; val_acc: 0.483000\n",
      "(Iteration 1001 / 4900) loss: 1.499508\n",
      "(Iteration 1101 / 4900) loss: 1.567819\n",
      "(Iteration 1201 / 4900) loss: 1.277105\n",
      "(Iteration 1301 / 4900) loss: 1.496063\n",
      "(Iteration 1401 / 4900) loss: 1.421819\n",
      "(Epoch 3 / 10) train acc: 0.484000; val_acc: 0.465000\n",
      "(Iteration 1501 / 4900) loss: 1.521319\n",
      "(Iteration 1601 / 4900) loss: 1.476604\n",
      "(Iteration 1701 / 4900) loss: 1.217313\n",
      "(Iteration 1801 / 4900) loss: 1.622282\n",
      "(Iteration 1901 / 4900) loss: 1.363440\n",
      "(Epoch 4 / 10) train acc: 0.549000; val_acc: 0.504000\n",
      "(Iteration 2001 / 4900) loss: 1.179609\n",
      "(Iteration 2101 / 4900) loss: 1.370853\n",
      "(Iteration 2201 / 4900) loss: 1.260657\n",
      "(Iteration 2301 / 4900) loss: 1.261852\n",
      "(Iteration 2401 / 4900) loss: 1.294521\n",
      "(Epoch 5 / 10) train acc: 0.563000; val_acc: 0.528000\n",
      "(Iteration 2501 / 4900) loss: 1.086632\n",
      "(Iteration 2601 / 4900) loss: 1.182366\n",
      "(Iteration 2701 / 4900) loss: 1.188029\n",
      "(Iteration 2801 / 4900) loss: 1.046415\n",
      "(Iteration 2901 / 4900) loss: 1.420720\n",
      "(Epoch 6 / 10) train acc: 0.569000; val_acc: 0.502000\n",
      "(Iteration 3001 / 4900) loss: 1.149742\n",
      "(Iteration 3101 / 4900) loss: 1.132000\n",
      "(Iteration 3201 / 4900) loss: 1.064729\n",
      "(Iteration 3301 / 4900) loss: 0.967088\n",
      "(Iteration 3401 / 4900) loss: 1.310236\n",
      "(Epoch 7 / 10) train acc: 0.570000; val_acc: 0.531000\n",
      "(Iteration 3501 / 4900) loss: 1.076806\n",
      "(Iteration 3601 / 4900) loss: 1.144916\n",
      "(Iteration 3701 / 4900) loss: 1.263290\n",
      "(Iteration 3801 / 4900) loss: 1.268375\n",
      "(Iteration 3901 / 4900) loss: 1.051424\n",
      "(Epoch 8 / 10) train acc: 0.564000; val_acc: 0.523000\n",
      "(Iteration 4001 / 4900) loss: 0.988442\n",
      "(Iteration 4101 / 4900) loss: 1.092655\n",
      "(Iteration 4201 / 4900) loss: 1.066403\n",
      "(Iteration 4301 / 4900) loss: 1.206989\n",
      "(Iteration 4401 / 4900) loss: 1.060624\n",
      "(Epoch 9 / 10) train acc: 0.628000; val_acc: 0.516000\n",
      "(Iteration 4501 / 4900) loss: 1.104635\n",
      "(Iteration 4601 / 4900) loss: 1.278075\n",
      "(Iteration 4701 / 4900) loss: 1.048699\n",
      "(Iteration 4801 / 4900) loss: 1.065756\n",
      "(Epoch 10 / 10) train acc: 0.627000; val_acc: 0.511000\n",
      "solver.train_acc_history: [0.19, 0.455, 0.488, 0.484, 0.549, 0.563, 0.569, 0.57, 0.564, 0.628, 0.627]\n",
      "solver.val_acc_history: [0.158, 0.446, 0.483, 0.465, 0.504, 0.528, 0.502, 0.531, 0.523, 0.516, 0.511]\n",
      "****************************** Task 5 completed ******************************\n"
     ]
    },
    {
     "data": {
      "text/plain": "<Figure size 1080x864 with 2 Axes>",
      "image/png": "[encoded data removed]"
     },
     "metadata": {
      "needs_background": "light"
     },
     "output_type": "display_data"
    }
   ],
   "source": [
    "\n",
    "task5(data)"
   ],
   "metadata": {
    "collapsed": false,
    "pycharm": {
     "name": "#%%\n"
    }
   }
  },
  {
   "cell_type": "code",
   "execution_count": 21,
   "outputs": [],
   "source": [
    "def task6(data):\n",
    "    '''\n",
    "    We will try a three-layer network with 100 units in each hidden layer.\n",
    "    You will need to tweak the learning rate and initialization scale,\n",
    "    but you should be able to overfit and achieve 100% training\n",
    "    (ignore validation accuracy for now) accuracy within 20 epochs.\n",
    "    Change learning rate and weight_scale with different values.\n",
    "    '''\n",
    "    print('*'*30+' Task 6 '+'*'*30)\n",
    "    num_train = 50\n",
    "    small_data = {\n",
    "    'X_train': data['X_train'][:num_train],\n",
    "    'y_train': data['y_train'][:num_train],\n",
    "    'X_val': data['X_val'],\n",
    "    'y_val': data['y_val'],\n",
    "    }\n",
    "\n",
    "    weight_scale = 2e-2   #OK to tweak this\n",
    "    learning_rate = 5e-3 #OK to tweak this\n",
    "    model = FullyConnectedNet([100, 100],\n",
    "                weight_scale=weight_scale, dtype=np.float64)\n",
    "    solver = Solver(model, small_data,\n",
    "                    print_every=10, num_epochs=20, batch_size=25,\n",
    "                    update_rule='sgd',\n",
    "                    optim_config={\n",
    "                    'learning_rate': learning_rate,\n",
    "                    }\n",
    "            )\n",
    "    solver.train()\n",
    "\n",
    "    plt.plot(solver.loss_history)\n",
    "    plt.title('Training loss history')\n",
    "    plt.xlabel('Iteration')\n",
    "    plt.ylabel('Training loss')\n",
    "    print('*'*30+' Task 6 completed '+'*'*30)"
   ],
   "metadata": {
    "collapsed": false,
    "pycharm": {
     "name": "#%%\n"
    }
   }
  },
  {
   "cell_type": "code",
   "execution_count": 22,
   "outputs": [
    {
     "name": "stdout",
     "output_type": "stream",
     "text": [
      "****************************** Task 6 ******************************\n",
      "(Iteration 1 / 40) loss: 3.512598\n",
      "(Epoch 0 / 20) train acc: 0.220000; val_acc: 0.129000\n",
      "(Epoch 1 / 20) train acc: 0.340000; val_acc: 0.130000\n",
      "(Epoch 2 / 20) train acc: 0.500000; val_acc: 0.142000\n",
      "(Epoch 3 / 20) train acc: 0.740000; val_acc: 0.161000\n",
      "(Epoch 4 / 20) train acc: 0.800000; val_acc: 0.162000\n",
      "(Epoch 5 / 20) train acc: 0.900000; val_acc: 0.164000\n",
      "(Iteration 11 / 40) loss: 0.618415\n",
      "(Epoch 6 / 20) train acc: 0.960000; val_acc: 0.185000\n",
      "(Epoch 7 / 20) train acc: 0.960000; val_acc: 0.160000\n",
      "(Epoch 8 / 20) train acc: 0.980000; val_acc: 0.158000\n",
      "(Epoch 9 / 20) train acc: 1.000000; val_acc: 0.160000\n",
      "(Epoch 10 / 20) train acc: 1.000000; val_acc: 0.158000\n",
      "(Iteration 21 / 40) loss: 0.120458\n",
      "(Epoch 11 / 20) train acc: 1.000000; val_acc: 0.175000\n",
      "(Epoch 12 / 20) train acc: 0.980000; val_acc: 0.168000\n",
      "(Epoch 13 / 20) train acc: 0.980000; val_acc: 0.164000\n",
      "(Epoch 14 / 20) train acc: 0.980000; val_acc: 0.160000\n",
      "(Epoch 15 / 20) train acc: 0.980000; val_acc: 0.159000\n",
      "(Iteration 31 / 40) loss: 0.112027\n",
      "(Epoch 16 / 20) train acc: 1.000000; val_acc: 0.171000\n",
      "(Epoch 17 / 20) train acc: 1.000000; val_acc: 0.171000\n",
      "(Epoch 18 / 20) train acc: 1.000000; val_acc: 0.176000\n",
      "(Epoch 19 / 20) train acc: 1.000000; val_acc: 0.177000\n",
      "(Epoch 20 / 20) train acc: 1.000000; val_acc: 0.172000\n",
      "****************************** Task 6 completed ******************************\n"
     ]
    },
    {
     "data": {
      "text/plain": "<Figure size 432x288 with 1 Axes>",
      "image/png": "[encoded data removed]"
     },
     "metadata": {
      "needs_background": "light"
     },
     "output_type": "display_data"
    }
   ],
   "source": [
    "task6(data)"
   ],
   "metadata": {
    "collapsed": false,
    "pycharm": {
     "name": "#%%\n"
    }
   }
  },
  {
   "cell_type": "code",
   "execution_count": 23,
   "outputs": [],
   "source": [
    "def task7(data):\n",
    "    '''\n",
    "    Now try to use a five-layer network with 100 units on each layer to overfit 50 training examples.\n",
    "    Again you will have to adjust the learning rate and weight initialization, but you should be able to\n",
    "    achieve 100% training accuracy within 20 epochs.\n",
    "    '''\n",
    "    print('*'*30+' Task 7 '+'*'*30)\n",
    "    num_train = 50\n",
    "    small_data = {\n",
    "    'X_train': data['X_train'][:num_train],\n",
    "    'y_train': data['y_train'][:num_train],\n",
    "    'X_val': data['X_val'],\n",
    "    'y_val': data['y_val'],\n",
    "    }\n",
    "\n",
    "    learning_rates = [2e-4, 5e-3]\n",
    "    weight_scale = [5e-2, 1e-3]\n",
    "    results = {}\n",
    "    best_train = -1\n",
    "    best_l = -1\n",
    "    best_w = -1\n",
    "    #########################################\n",
    "    #           TODO                        #\n",
    "    #########################################\n",
    "    # For each of the learning rates\n",
    "    # and weight scale\n",
    "    # 1. Create a fully connected net\n",
    "    # 2. Create a solver\n",
    "    # 3. Train the network\n",
    "    # 4. Utilize the results dictionary\n",
    "    #    to store a (l,w) as key and the\n",
    "    #    train accuracy as value\n",
    "    # 5. Find the best train accuracy value\n",
    "    # 6. Find the best l and best w\n",
    "    ################################################################################\n",
    "    for lr in learning_rates:\n",
    "        for ws in weight_scale:\n",
    "            model = FullyConnectedNet([100, 100, 100, 100],\n",
    "                weight_scale=ws, dtype=np.float64)\n",
    "            solver = Solver(model, small_data,\n",
    "                    print_every=10, num_epochs=20, batch_size=25,\n",
    "                    update_rule='sgd',\n",
    "                    optim_config={\n",
    "                    'learning_rate': lr,\n",
    "                    }\n",
    "                    )\n",
    "\n",
    "            results[lr, ws] = solver.train()\n",
    "            if results[lr, ws] > best_train:\n",
    "                best_train = results[lr, ws]\n",
    "                best_l = lr\n",
    "                best_w = ws\n",
    "\n",
    "    print ('best_train=', best_train)\n",
    "    print ('best_l=', best_l)\n",
    "    print ('best_w=', best_w)\n",
    "    model = FullyConnectedNet([100, 100, 100, 100],\n",
    "                    weight_scale=best_w, dtype=np.float64)\n",
    "    solver = Solver(model, small_data,\n",
    "                    print_every=10, num_epochs=20, batch_size=25,\n",
    "                    update_rule='sgd',\n",
    "                    optim_config={\n",
    "                    'learning_rate': best_l,\n",
    "                    }\n",
    "            )\n",
    "    solver.train()\n",
    "\n",
    "    plt.plot(solver.loss_history)\n",
    "    plt.title('Training loss history')\n",
    "    plt.xlabel('Iteration')\n",
    "    plt.ylabel('Training loss')\n",
    "    print('*'*30+' Task 7 completed '+'*'*30)"
   ],
   "metadata": {
    "collapsed": false,
    "pycharm": {
     "name": "#%%\n"
    }
   }
  },
  {
   "cell_type": "code",
   "execution_count": 24,
   "outputs": [
    {
     "name": "stdout",
     "output_type": "stream",
     "text": [
      "****************************** Task 7 ******************************\n",
      "(Iteration 1 / 40) loss: 3.462955\n",
      "(Epoch 0 / 20) train acc: 0.080000; val_acc: 0.108000\n",
      "(Epoch 1 / 20) train acc: 0.100000; val_acc: 0.113000\n",
      "(Epoch 2 / 20) train acc: 0.060000; val_acc: 0.120000\n",
      "(Epoch 3 / 20) train acc: 0.060000; val_acc: 0.129000\n",
      "(Epoch 4 / 20) train acc: 0.080000; val_acc: 0.131000\n",
      "(Epoch 5 / 20) train acc: 0.080000; val_acc: 0.136000\n",
      "(Iteration 11 / 40) loss: 2.424767\n",
      "(Epoch 6 / 20) train acc: 0.080000; val_acc: 0.132000\n",
      "(Epoch 7 / 20) train acc: 0.080000; val_acc: 0.137000\n",
      "(Epoch 8 / 20) train acc: 0.120000; val_acc: 0.140000\n",
      "(Epoch 9 / 20) train acc: 0.140000; val_acc: 0.141000\n",
      "(Epoch 10 / 20) train acc: 0.160000; val_acc: 0.134000\n",
      "(Iteration 21 / 40) loss: 2.185043\n",
      "(Epoch 11 / 20) train acc: 0.200000; val_acc: 0.139000\n",
      "(Epoch 12 / 20) train acc: 0.220000; val_acc: 0.140000\n",
      "(Epoch 13 / 20) train acc: 0.240000; val_acc: 0.140000\n",
      "(Epoch 14 / 20) train acc: 0.260000; val_acc: 0.148000\n",
      "(Epoch 15 / 20) train acc: 0.280000; val_acc: 0.146000\n",
      "(Iteration 31 / 40) loss: 2.048265\n",
      "(Epoch 16 / 20) train acc: 0.320000; val_acc: 0.151000\n",
      "(Epoch 17 / 20) train acc: 0.360000; val_acc: 0.155000\n",
      "(Epoch 18 / 20) train acc: 0.380000; val_acc: 0.154000\n",
      "(Epoch 19 / 20) train acc: 0.380000; val_acc: 0.153000\n",
      "(Epoch 20 / 20) train acc: 0.380000; val_acc: 0.157000\n",
      "(Iteration 1 / 40) loss: 2.302585\n",
      "(Epoch 0 / 20) train acc: 0.160000; val_acc: 0.112000\n",
      "(Epoch 1 / 20) train acc: 0.160000; val_acc: 0.112000\n",
      "(Epoch 2 / 20) train acc: 0.160000; val_acc: 0.112000\n",
      "(Epoch 3 / 20) train acc: 0.160000; val_acc: 0.112000\n",
      "(Epoch 4 / 20) train acc: 0.160000; val_acc: 0.112000\n",
      "(Epoch 5 / 20) train acc: 0.160000; val_acc: 0.112000\n",
      "(Iteration 11 / 40) loss: 2.302570\n",
      "(Epoch 6 / 20) train acc: 0.160000; val_acc: 0.112000\n",
      "(Epoch 7 / 20) train acc: 0.160000; val_acc: 0.112000\n",
      "(Epoch 8 / 20) train acc: 0.160000; val_acc: 0.112000\n",
      "(Epoch 9 / 20) train acc: 0.160000; val_acc: 0.079000\n",
      "(Epoch 10 / 20) train acc: 0.160000; val_acc: 0.079000\n",
      "(Iteration 21 / 40) loss: 2.302453\n",
      "(Epoch 11 / 20) train acc: 0.160000; val_acc: 0.079000\n",
      "(Epoch 12 / 20) train acc: 0.160000; val_acc: 0.079000\n",
      "(Epoch 13 / 20) train acc: 0.160000; val_acc: 0.079000\n",
      "(Epoch 14 / 20) train acc: 0.160000; val_acc: 0.079000\n",
      "(Epoch 15 / 20) train acc: 0.160000; val_acc: 0.079000\n",
      "(Iteration 31 / 40) loss: 2.302490\n",
      "(Epoch 16 / 20) train acc: 0.160000; val_acc: 0.079000\n",
      "(Epoch 17 / 20) train acc: 0.160000; val_acc: 0.079000\n",
      "(Epoch 18 / 20) train acc: 0.160000; val_acc: 0.079000\n",
      "(Epoch 19 / 20) train acc: 0.160000; val_acc: 0.079000\n",
      "(Epoch 20 / 20) train acc: 0.160000; val_acc: 0.079000\n",
      "(Iteration 1 / 40) loss: 4.900303\n",
      "(Epoch 0 / 20) train acc: 0.140000; val_acc: 0.107000\n",
      "(Epoch 1 / 20) train acc: 0.160000; val_acc: 0.116000\n",
      "(Epoch 2 / 20) train acc: 0.380000; val_acc: 0.106000\n",
      "(Epoch 3 / 20) train acc: 0.600000; val_acc: 0.126000\n",
      "(Epoch 4 / 20) train acc: 0.720000; val_acc: 0.138000\n",
      "(Epoch 5 / 20) train acc: 0.840000; val_acc: 0.143000\n",
      "(Iteration 11 / 40) loss: 0.629890\n",
      "(Epoch 6 / 20) train acc: 0.860000; val_acc: 0.135000\n",
      "(Epoch 7 / 20) train acc: 0.900000; val_acc: 0.136000\n",
      "(Epoch 8 / 20) train acc: 0.880000; val_acc: 0.146000\n",
      "(Epoch 9 / 20) train acc: 0.960000; val_acc: 0.143000\n",
      "(Epoch 10 / 20) train acc: 0.960000; val_acc: 0.142000\n",
      "(Iteration 21 / 40) loss: 0.574722\n",
      "(Epoch 11 / 20) train acc: 1.000000; val_acc: 0.155000\n",
      "(Epoch 12 / 20) train acc: 0.980000; val_acc: 0.167000\n",
      "(Epoch 13 / 20) train acc: 0.980000; val_acc: 0.138000\n",
      "(Epoch 14 / 20) train acc: 1.000000; val_acc: 0.172000\n",
      "(Epoch 15 / 20) train acc: 1.000000; val_acc: 0.165000\n",
      "(Iteration 31 / 40) loss: 0.187907\n",
      "(Epoch 16 / 20) train acc: 1.000000; val_acc: 0.153000\n",
      "(Epoch 17 / 20) train acc: 1.000000; val_acc: 0.158000\n",
      "(Epoch 18 / 20) train acc: 1.000000; val_acc: 0.160000\n",
      "(Epoch 19 / 20) train acc: 1.000000; val_acc: 0.159000\n",
      "(Epoch 20 / 20) train acc: 1.000000; val_acc: 0.162000\n",
      "(Iteration 1 / 40) loss: 2.302585\n",
      "(Epoch 0 / 20) train acc: 0.160000; val_acc: 0.079000\n",
      "(Epoch 1 / 20) train acc: 0.160000; val_acc: 0.079000\n",
      "(Epoch 2 / 20) train acc: 0.160000; val_acc: 0.112000\n",
      "(Epoch 3 / 20) train acc: 0.160000; val_acc: 0.112000\n",
      "(Epoch 4 / 20) train acc: 0.160000; val_acc: 0.079000\n",
      "(Epoch 5 / 20) train acc: 0.160000; val_acc: 0.079000\n",
      "(Iteration 11 / 40) loss: 2.302037\n",
      "(Epoch 6 / 20) train acc: 0.160000; val_acc: 0.079000\n",
      "(Epoch 7 / 20) train acc: 0.160000; val_acc: 0.079000\n",
      "(Epoch 8 / 20) train acc: 0.160000; val_acc: 0.079000\n",
      "(Epoch 9 / 20) train acc: 0.160000; val_acc: 0.079000\n",
      "(Epoch 10 / 20) train acc: 0.160000; val_acc: 0.079000\n",
      "(Iteration 21 / 40) loss: 2.299811\n",
      "(Epoch 11 / 20) train acc: 0.160000; val_acc: 0.079000\n",
      "(Epoch 12 / 20) train acc: 0.160000; val_acc: 0.079000\n",
      "(Epoch 13 / 20) train acc: 0.160000; val_acc: 0.079000\n",
      "(Epoch 14 / 20) train acc: 0.160000; val_acc: 0.079000\n",
      "(Epoch 15 / 20) train acc: 0.160000; val_acc: 0.079000\n",
      "(Iteration 31 / 40) loss: 2.301235\n",
      "(Epoch 16 / 20) train acc: 0.160000; val_acc: 0.079000\n",
      "(Epoch 17 / 20) train acc: 0.160000; val_acc: 0.079000\n",
      "(Epoch 18 / 20) train acc: 0.160000; val_acc: 0.079000\n",
      "(Epoch 19 / 20) train acc: 0.160000; val_acc: 0.079000\n",
      "(Epoch 20 / 20) train acc: 0.160000; val_acc: 0.112000\n",
      "best_train= 1.0\n",
      "best_l= 0.005\n",
      "best_w= 0.05\n",
      "(Iteration 1 / 40) loss: 4.222879\n",
      "(Epoch 0 / 20) train acc: 0.140000; val_acc: 0.106000\n",
      "(Epoch 1 / 20) train acc: 0.260000; val_acc: 0.128000\n",
      "(Epoch 2 / 20) train acc: 0.480000; val_acc: 0.094000\n",
      "(Epoch 3 / 20) train acc: 0.560000; val_acc: 0.130000\n",
      "(Epoch 4 / 20) train acc: 0.760000; val_acc: 0.149000\n",
      "(Epoch 5 / 20) train acc: 0.720000; val_acc: 0.125000\n",
      "(Iteration 11 / 40) loss: 0.893038\n",
      "(Epoch 6 / 20) train acc: 0.900000; val_acc: 0.133000\n",
      "(Epoch 7 / 20) train acc: 0.940000; val_acc: 0.143000\n",
      "(Epoch 8 / 20) train acc: 0.980000; val_acc: 0.142000\n",
      "(Epoch 9 / 20) train acc: 1.000000; val_acc: 0.142000\n",
      "(Epoch 10 / 20) train acc: 1.000000; val_acc: 0.146000\n",
      "(Iteration 21 / 40) loss: 0.418279\n",
      "(Epoch 11 / 20) train acc: 1.000000; val_acc: 0.139000\n",
      "(Epoch 12 / 20) train acc: 1.000000; val_acc: 0.135000\n",
      "(Epoch 13 / 20) train acc: 1.000000; val_acc: 0.135000\n",
      "(Epoch 14 / 20) train acc: 1.000000; val_acc: 0.134000\n",
      "(Epoch 15 / 20) train acc: 1.000000; val_acc: 0.131000\n",
      "(Iteration 31 / 40) loss: 0.157315\n",
      "(Epoch 16 / 20) train acc: 1.000000; val_acc: 0.135000\n",
      "(Epoch 17 / 20) train acc: 1.000000; val_acc: 0.138000\n",
      "(Epoch 18 / 20) train acc: 1.000000; val_acc: 0.139000\n",
      "(Epoch 19 / 20) train acc: 1.000000; val_acc: 0.148000\n",
      "(Epoch 20 / 20) train acc: 1.000000; val_acc: 0.149000\n",
      "****************************** Task 7 completed ******************************\n"
     ]
    },
    {
     "data": {
      "text/plain": "<Figure size 432x288 with 1 Axes>",
      "image/png": "[encoded data removed]"
     },
     "metadata": {
      "needs_background": "light"
     },
     "output_type": "display_data"
    }
   ],
   "source": [
    "task7(data)"
   ],
   "metadata": {
    "collapsed": false,
    "pycharm": {
     "name": "#%%\n"
    }
   }
  },
  {
   "cell_type": "code",
   "execution_count": 19,
   "outputs": [],
   "source": [
    "def task8():\n",
    "    '''\n",
    "    So far we have used vanilla stochastic gradient descent (SGD) as our update rule.\n",
    "    More sophisticated update rules can make it easier to train deep networks.\n",
    "    We will implement a few of the most commonly used update rules and compare them to vanilla SGD.\n",
    "    SGD+Momentum Stochastic gradient descent with momentum is a widely used update rule that\n",
    "    tends to make deep networks converge faster than vanilla stochstic gradient descent.\n",
    "    Open the file cs231n/optim.py and read the documentation at the top of the file to make sure you understand the API.\n",
    "    Implement the SGD+momentum update rule in the function sgd_momentum and run the following to\n",
    "    check your implementation. You should see errors less than 1e-8.\n",
    "    '''\n",
    "    print('*'*30+' Task 8 '+'*'*30)\n",
    "    N, D = 4, 5\n",
    "    w = np.linspace(-0.4, 0.6, num=N*D).reshape(N, D)\n",
    "    dw = np.linspace(-0.6, 0.4, num=N*D).reshape(N, D)\n",
    "    v = np.linspace(0.6, 0.9, num=N*D).reshape(N, D)\n",
    "\n",
    "    config = {'learning_rate': 1e-3, 'velocity': v}\n",
    "    next_w, _ = sgd_momentum(w, dw, config=config)\n",
    "\n",
    "    expected_next_w = np.asarray([\n",
    "    [ 0.1406,      0.20738947,  0.27417895,  0.34096842,  0.40775789],\n",
    "    [ 0.47454737,  0.54133684,  0.60812632,  0.67491579,  0.74170526],\n",
    "    [ 0.80849474,  0.87528421,  0.94207368,  1.00886316,  1.07565263],\n",
    "    [ 1.14244211,  1.20923158,  1.27602105,  1.34281053,  1.4096    ]])\n",
    "    expected_velocity = np.asarray([\n",
    "    [ 0.5406,      0.55475789,  0.56891579, 0.58307368,  0.59723158],\n",
    "    [ 0.61138947,  0.62554737,  0.63970526,  0.65386316,  0.66802105],\n",
    "    [ 0.68217895,  0.69633684,  0.71049474,  0.72465263,  0.73881053],\n",
    "    [ 0.75296842,  0.76712632,  0.78128421,  0.79544211,  0.8096    ]])\n",
    "\n",
    "    print ('next_w error: ', rel_error(next_w, expected_next_w))\n",
    "    print ('velocity error: ', rel_error(expected_velocity, config['velocity']))\n",
    "    print('*'*30+' Task 8 completed '+'*'*30)"
   ],
   "metadata": {
    "collapsed": false,
    "pycharm": {
     "name": "#%%\n"
    }
   }
  },
  {
   "cell_type": "code",
   "execution_count": 20,
   "outputs": [
    {
     "name": "stdout",
     "output_type": "stream",
     "text": [
      "****************************** Task 8 ******************************\n",
      "next_w error:  8.882347033505819e-09\n",
      "velocity error:  4.269287743278663e-09\n",
      "****************************** Task 8 completed ******************************\n"
     ]
    }
   ],
   "source": [
    "task8()"
   ],
   "metadata": {
    "collapsed": false,
    "pycharm": {
     "name": "#%%\n"
    }
   }
  }
 ],
 "metadata": {
  "kernelspec": {
   "display_name": "Python 3",
   "language": "python",
   "name": "python3"
  },
  "language_info": {
   "codemirror_mode": {
    "name": "ipython",
    "version": 2
   },
   "file_extension": ".py",
   "mimetype": "text/x-python",
   "name": "python",
   "nbconvert_exporter": "python",
   "pygments_lexer": "ipython2",
   "version": "2.7.6"
  }
 },
 "nbformat": 4,
 "nbformat_minor": 0
}