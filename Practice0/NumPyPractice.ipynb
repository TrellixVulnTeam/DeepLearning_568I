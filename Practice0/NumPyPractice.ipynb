{
  "nbformat": 4,
  "nbformat_minor": 0,
  "metadata": {
    "colab": {
      "name": "NumPyPractice.ipynb",
      "provenance": []
    },
    "kernelspec": {
      "name": "python3",
      "display_name": "Python 3"
    },
    "language_info": {
      "name": "python"
    }
  },
  "cells": [
    {
      "cell_type": "code",
      "metadata": {
        "id": "_2TDT8d4oQxy"
      },
      "source": [
        "import numpy as np"
      ],
      "execution_count": 1,
      "outputs": []
    },
    {
      "cell_type": "markdown",
      "metadata": {
        "id": "IUUJy-EUoYCt"
      },
      "source": [
        "Write a command to create the below array using NumPy. \n",
        " Call this array a: array([[ 3, 2, 1, 0], [ 7, 6, 5, 4], [11, 10, 9, 8]])"
      ]
    },
    {
      "cell_type": "code",
      "metadata": {
        "colab": {
          "base_uri": "https://localhost:8080/"
        },
        "id": "gQ2I9s5jogGF",
        "outputId": "36a98ab3-d84a-49ed-fde1-91bb97489347"
      },
      "source": [
        "a = np.array([[3, 2, 1, 0], [7, 6, 5, 4], [11, 10, 9, 8]])\n",
        "print(a)"
      ],
      "execution_count": 2,
      "outputs": [
        {
          "output_type": "stream",
          "text": [
            "[[ 3  2  1  0]\n",
            " [ 7  6  5  4]\n",
            " [11 10  9  8]]\n"
          ],
          "name": "stdout"
        }
      ]
    },
    {
      "cell_type": "markdown",
      "metadata": {
        "id": "eI-NW59doqgl"
      },
      "source": [
        "How would you fetch the shape of the array?"
      ]
    },
    {
      "cell_type": "code",
      "metadata": {
        "colab": {
          "base_uri": "https://localhost:8080/"
        },
        "id": "NwcBT5FDouiD",
        "outputId": "aa82c9b3-8730-4660-93ad-3850b260bb0f"
      },
      "source": [
        "print(a.shape)"
      ],
      "execution_count": 3,
      "outputs": [
        {
          "output_type": "stream",
          "text": [
            "(3, 4)\n"
          ],
          "name": "stdout"
        }
      ]
    },
    {
      "cell_type": "markdown",
      "metadata": {
        "id": "fhy8V2Veoxfk"
      },
      "source": [
        "Numpy provides a function to create an array full of zeros. Write a line of code which\n",
        "creates such an array of dimensions 50 x 50."
      ]
    },
    {
      "cell_type": "code",
      "metadata": {
        "colab": {
          "base_uri": "https://localhost:8080/"
        },
        "id": "ql4H7RsrpWBh",
        "outputId": "44717e15-d4c7-4e07-80f5-12b508773439"
      },
      "source": [
        "z = np.zeros((50,50))\n",
        "print(z)\n",
        "print(z.shape)"
      ],
      "execution_count": 5,
      "outputs": [
        {
          "output_type": "stream",
          "text": [
            "[[0. 0. 0. ... 0. 0. 0.]\n",
            " [0. 0. 0. ... 0. 0. 0.]\n",
            " [0. 0. 0. ... 0. 0. 0.]\n",
            " ...\n",
            " [0. 0. 0. ... 0. 0. 0.]\n",
            " [0. 0. 0. ... 0. 0. 0.]\n",
            " [0. 0. 0. ... 0. 0. 0.]]\n",
            "(50, 50)\n"
          ],
          "name": "stdout"
        }
      ]
    },
    {
      "cell_type": "markdown",
      "metadata": {
        "id": "mTxnWrO-o1qM"
      },
      "source": [
        "Numpy provides a function to create a sequence of numbers. Write the code to create an array which consists of numbers from 0 to 11 (inclusive) arranged in 3 rows and 4 columns. Call this array b."
      ]
    },
    {
      "cell_type": "code",
      "metadata": {
        "colab": {
          "base_uri": "https://localhost:8080/"
        },
        "id": "WaijgMrEpixT",
        "outputId": "15eae2cf-110f-4d45-b20d-79fad8c8e8e3"
      },
      "source": [
        "b = np.arange(12)\n",
        "b = b.reshape(3,4)\n",
        "\n",
        "print(b)"
      ],
      "execution_count": 7,
      "outputs": [
        {
          "output_type": "stream",
          "text": [
            "[[ 0  1  2  3]\n",
            " [ 4  5  6  7]\n",
            " [ 8  9 10 11]]\n"
          ],
          "name": "stdout"
        }
      ]
    },
    {
      "cell_type": "markdown",
      "metadata": {
        "id": "T0uZNogxo3g0"
      },
      "source": [
        "The operator * performs element-wise multiplication in NumPy arrays. Perform the\n",
        "operation (a * b) and report the resulting matrix."
      ]
    },
    {
      "cell_type": "code",
      "metadata": {
        "colab": {
          "base_uri": "https://localhost:8080/"
        },
        "id": "06u1VrRuqdab",
        "outputId": "b5fbde98-6bbb-4b89-9101-7c7c91b976fa"
      },
      "source": [
        "print(a*b)"
      ],
      "execution_count": 8,
      "outputs": [
        {
          "output_type": "stream",
          "text": [
            "[[ 0  2  2  0]\n",
            " [28 30 30 28]\n",
            " [88 90 90 88]]\n"
          ],
          "name": "stdout"
        }
      ]
    },
    {
      "cell_type": "markdown",
      "metadata": {
        "id": "KgDwFH51o-GM"
      },
      "source": [
        "Write code to perform matrix multiplication of NumPy arrays (the * operator per-\n",
        "forms element-wise multiplication). Use arrays a and the transpose of a to perform\n",
        "this operation. Hint: (.T) operator can be used to perform a transpose."
      ]
    },
    {
      "cell_type": "code",
      "metadata": {
        "colab": {
          "base_uri": "https://localhost:8080/"
        },
        "id": "IFGoWqUHqkta",
        "outputId": "518da853-7073-4d70-a647-9f87526b21fc"
      },
      "source": [
        "print(np.matmul(a,a.T))"
      ],
      "execution_count": 9,
      "outputs": [
        {
          "output_type": "stream",
          "text": [
            "[[ 14  38  62]\n",
            " [ 38 126 214]\n",
            " [ 62 214 366]]\n"
          ],
          "name": "stdout"
        }
      ]
    },
    {
      "cell_type": "markdown",
      "metadata": {
        "id": "SbJvf688pEdc"
      },
      "source": [
        "Indexing and Slicing\n",
        "\n",
        "(a) Write a line of code to print the 2nd element of 3rd row in array a"
      ]
    },
    {
      "cell_type": "code",
      "metadata": {
        "colab": {
          "base_uri": "https://localhost:8080/"
        },
        "id": "dOxEH8-5raXy",
        "outputId": "9feff92a-1ff0-4905-9b1a-0f116880a33a"
      },
      "source": [
        "print(a[2,1:2])"
      ],
      "execution_count": 18,
      "outputs": [
        {
          "output_type": "stream",
          "text": [
            "[10]\n"
          ],
          "name": "stdout"
        }
      ]
    },
    {
      "cell_type": "markdown",
      "metadata": {
        "id": "7L0Ov6iBpHhM"
      },
      "source": [
        "(b) Write a line of code to print only the 2nd row of array b"
      ]
    },
    {
      "cell_type": "code",
      "metadata": {
        "colab": {
          "base_uri": "https://localhost:8080/"
        },
        "id": "wR8QkNBZt0QQ",
        "outputId": "74e85c7d-8d09-4872-f6ed-fec2bc8079e6"
      },
      "source": [
        "print(b[1,:])"
      ],
      "execution_count": 19,
      "outputs": [
        {
          "output_type": "stream",
          "text": [
            "[4 5 6 7]\n"
          ],
          "name": "stdout"
        }
      ]
    },
    {
      "cell_type": "markdown",
      "metadata": {
        "id": "PDPOPrrypJps"
      },
      "source": [
        "(c) Assuming you don't know the dimensions of the array, write a line of code to\n",
        "print the last column of array b."
      ]
    },
    {
      "cell_type": "code",
      "metadata": {
        "colab": {
          "base_uri": "https://localhost:8080/"
        },
        "id": "8yyB6n_Xu0rP",
        "outputId": "ebfb7e4c-076e-44f0-bd38-855ca5c8ff81"
      },
      "source": [
        "print(b[:,-1])"
      ],
      "execution_count": 28,
      "outputs": [
        {
          "output_type": "stream",
          "text": [
            "[ 3  7 11]\n"
          ],
          "name": "stdout"
        }
      ]
    },
    {
      "cell_type": "markdown",
      "metadata": {
        "id": "3SgMJKNIpLrc"
      },
      "source": [
        "Write a line of code to reshape the array b such that it has 6 rows and 2 columns"
      ]
    },
    {
      "cell_type": "code",
      "metadata": {
        "colab": {
          "base_uri": "https://localhost:8080/"
        },
        "id": "27uvB5u-vSQP",
        "outputId": "5a5e8f44-8ff3-4741-b402-f576d8b2d855"
      },
      "source": [
        "b = b.reshape(6,2)\n",
        "print(b)"
      ],
      "execution_count": 30,
      "outputs": [
        {
          "output_type": "stream",
          "text": [
            "[[ 0  1]\n",
            " [ 2  3]\n",
            " [ 4  5]\n",
            " [ 6  7]\n",
            " [ 8  9]\n",
            " [10 11]]\n"
          ],
          "name": "stdout"
        }
      ]
    },
    {
      "cell_type": "markdown",
      "metadata": {
        "id": "yqZ9gcespNf9"
      },
      "source": [
        "Sorting\n",
        "\n",
        "(a) Write code to sort array a by rows (Use the sort function provided by NumPy)"
      ]
    },
    {
      "cell_type": "code",
      "metadata": {
        "colab": {
          "base_uri": "https://localhost:8080/"
        },
        "id": "emY1w2AsvaCf",
        "outputId": "7be9a7cc-16d9-4eed-8f58-f6cad0578785"
      },
      "source": [
        "print(np.sort(a))"
      ],
      "execution_count": 37,
      "outputs": [
        {
          "output_type": "stream",
          "text": [
            "[[ 0  1  2  3]\n",
            " [ 4  5  6  7]\n",
            " [ 8  9 10 11]]\n"
          ],
          "name": "stdout"
        }
      ]
    },
    {
      "cell_type": "markdown",
      "metadata": {
        "id": "ujBKHuC_pPnL"
      },
      "source": [
        "(b) How would the result differ if `axis' parameter in the sort function is not specified?"
      ]
    },
    {
      "cell_type": "code",
      "metadata": {
        "colab": {
          "base_uri": "https://localhost:8080/"
        },
        "id": "WmN_NSz2owmU",
        "outputId": "b0bbf00e-a3e0-4d4b-e7f5-ed5e89937d1b"
      },
      "source": [
        "print(np.sort(a, axis=None))"
      ],
      "execution_count": 41,
      "outputs": [
        {
          "output_type": "stream",
          "text": [
            "[ 0  1  2  3  4  5  6  7  8  9 10 11]\n"
          ],
          "name": "stdout"
        }
      ]
    },
    {
      "cell_type": "code",
      "metadata": {
        "id": "NmTz0YcFw5Bt"
      },
      "source": [
        ""
      ],
      "execution_count": null,
      "outputs": []
    }
  ]
}