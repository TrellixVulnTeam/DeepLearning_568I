{
  "nbformat": 4,
  "nbformat_minor": 0,
  "metadata": {
    "colab": {
      "name": "Vectorization.ipynb",
      "provenance": []
    },
    "kernelspec": {
      "name": "python3",
      "display_name": "Python 3"
    },
    "language_info": {
      "name": "python"
    }
  },
  "cells": [
    {
      "cell_type": "markdown",
      "metadata": {
        "id": "Wl2jgpYbVW49"
      },
      "source": [
        "NumPy is fast because it uses vectorization. Vectorization describes the absence of any explicit looping, indexing, etc., in the code - these operations are taking place, of course, \\behind the scenes\" in optimized, pre-compiled C code. Apart from being fast, vectorization helps with writing code that is concise and easier to read. Fewer lines of code generally mean fewer bugs."
      ]
    },
    {
      "cell_type": "markdown",
      "metadata": {
        "id": "o7nktPdNVfCp"
      },
      "source": [
        "# Element-wise multiplication \n",
        "### Task: Use a for loop to go through the arrays a and b and perform element-wise multiplication "
      ]
    },
    {
      "cell_type": "code",
      "metadata": {
        "id": "-9_pU4cWVQ_t"
      },
      "source": [
        "import time\n",
        "import numpy\n",
        "import array\n",
        "a = array.array('i')\n",
        "for i in range(5000000):\n",
        "    a.append(i)\n",
        "\n",
        "b = array.array('i')\n",
        "for i in range(5000000, 10000000):\n",
        "    b.append(i)\n",
        "\n",
        "vector = numpy.zeros(5000000)\n",
        "\n",
        "tic = time.process_time()\n",
        "for i in a:\n",
        "  k = 0\n",
        "  for j in b:\n",
        "    vector[k] += i*j\n",
        "  k += 1\n",
        "toc = time.process_time()\n",
        "\n",
        "\n",
        "print(\"\\nComputation time before vectorization = \" + str(1000 * (toc - tic)) + \"ms\")"
      ],
      "execution_count": null,
      "outputs": []
    },
    {
      "cell_type": "code",
      "metadata": {
        "id": "NAbNwxDUYk6B"
      },
      "source": [
        "vector[0]"
      ],
      "execution_count": null,
      "outputs": []
    },
    {
      "cell_type": "markdown",
      "metadata": {
        "id": "tFOOm1RoYWV5"
      },
      "source": [
        "## Task: Use NumPy to perform element-wise multiplication. Hint: use the multiply() function"
      ]
    },
    {
      "cell_type": "code",
      "metadata": {
        "id": "NoQYAqFuYZz5"
      },
      "source": [
        "n_tic = time.process_time()\n",
        "a = np.array(a)\n",
        "b = np.array(b)\n",
        "vector = np.multiply(a,b.T)\n",
        "n_toc = time.process_time()\n"
      ],
      "execution_count": null,
      "outputs": []
    }
  ]
}