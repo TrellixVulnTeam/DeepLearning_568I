{
  "nbformat": 4,
  "nbformat_minor": 0,
  "metadata": {
    "colab": {
      "name": "DataPreProcessingScikitandMatplotLib.ipynb",
      "provenance": []
    },
    "kernelspec": {
      "name": "python3",
      "display_name": "Python 3"
    },
    "language_info": {
      "name": "python"
    }
  },
  "cells": [
    {
      "cell_type": "markdown",
      "metadata": {
        "id": "V51bjoCs3cXe"
      },
      "source": [
        "# Data Preprocessing\n",
        "\n",
        "Iris dataset: Iris dataset is a classic dataset for classification, machine learning and data visualization. It contains 3 classes (different Iris species) with 50 samples each, and then four numeric properties about those classes: Sepal Length, Sepal Width, Petal Length, and Petal Width.\n",
        "\n",
        "### Task 1\n",
        "\n",
        "Read the iris dataset and print the count of the total number of samples of each class present in the dataset."
      ]
    },
    {
      "cell_type": "code",
      "metadata": {
        "colab": {
          "base_uri": "https://localhost:8080/"
        },
        "id": "o5pGbdO83Vyk",
        "outputId": "7bbc4cf2-7369-4f49-9839-74518246ab63"
      },
      "source": [
        "from sklearn.datasets import load_iris\n",
        "data = load_iris()\n",
        "l = [i for i in data['target'] == 0]\n",
        "l1 = [i for i in data['target'] == 1]\n",
        "l2 = [i for i in data['target'] == 2]\n",
        "print(len(l), data['target_names'][0])\n",
        "print(len(l1), data['target_names'][1])\n",
        "print(len(l2), data['target_names'][2])"
      ],
      "execution_count": 21,
      "outputs": [
        {
          "output_type": "stream",
          "text": [
            "150 setosa\n",
            "150 versicolor\n",
            "150 virginica\n"
          ],
          "name": "stdout"
        }
      ]
    },
    {
      "cell_type": "markdown",
      "metadata": {
        "id": "tTy5tqwl6PST"
      },
      "source": [
        "### Task 2\n",
        "Split the iris dataset into train and test sets such that 70% of the data is in the training\n",
        "set and the remaining 30% in the testing set. Print the shape of both the sets and report\n",
        "the output."
      ]
    },
    {
      "cell_type": "code",
      "metadata": {
        "id": "T51Ddysf503M"
      },
      "source": [
        "X = data['data']\n",
        "y = data['target']\n",
        "from sklearn.model_selection import train_test_split\n",
        "\n",
        "X_train, X_test, y_train, y_test = train_test_split(X, y, test_size=0.3, random_state=42)"
      ],
      "execution_count": 17,
      "outputs": []
    },
    {
      "cell_type": "markdown",
      "metadata": {
        "id": "mT6KU9wv65sL"
      },
      "source": [
        "# Matplotlib\n",
        "\n",
        "### Task 1\n",
        "\n",
        "Plot a linear (x), a quadratic (x2), and a cubic (x3) curve in the same plot. Use the numpy function linspace to create a bounded linear space as your independent variable data (x-axis). The data should be from the range of 0.0 to 2.0 and generate 100 points between them. The plot should contain labels for the x-axis, y-axis and title. Include a legend to name the curves. Show the code and plot obtained in your answer"
      ]
    },
    {
      "cell_type": "code",
      "metadata": {
        "colab": {
          "base_uri": "https://localhost:8080/"
        },
        "id": "n0jaNfSF7LK4",
        "outputId": "fb5a69f9-ac2b-4953-fc94-8988dcd24971"
      },
      "source": [
        "import numpy as np\n",
        "import matplotlib.pyplot as plt\n",
        "\n",
        "x = np.linspace(0.0, 2.0, num=100)\n",
        "x2 = np.square(x)\n",
        "x3 = np.power(x, 3)\n",
        "y = np.arange(0,100)"
      ],
      "execution_count": 30,
      "outputs": [
        {
          "output_type": "execute_result",
          "data": {
            "text/plain": [
              "array([ 0,  1,  2,  3,  4,  5,  6,  7,  8,  9, 10, 11, 12, 13, 14, 15, 16,\n",
              "       17, 18, 19, 20, 21, 22, 23, 24, 25, 26, 27, 28, 29, 30, 31, 32, 33,\n",
              "       34, 35, 36, 37, 38, 39, 40, 41, 42, 43, 44, 45, 46, 47, 48, 49, 50,\n",
              "       51, 52, 53, 54, 55, 56, 57, 58, 59, 60, 61, 62, 63, 64, 65, 66, 67,\n",
              "       68, 69, 70, 71, 72, 73, 74, 75, 76, 77, 78, 79, 80, 81, 82, 83, 84,\n",
              "       85, 86, 87, 88, 89, 90, 91, 92, 93, 94, 95, 96, 97, 98, 99])"
            ]
          },
          "metadata": {
            "tags": []
          },
          "execution_count": 30
        }
      ]
    },
    {
      "cell_type": "code",
      "metadata": {
        "colab": {
          "base_uri": "https://localhost:8080/",
          "height": 295
        },
        "id": "-AXHd85u_CCP",
        "outputId": "aff72260-6536-4396-9b96-79ba5d294319"
      },
      "source": [
        "plt.plot(x, y, label='Linear')\n",
        "plt.plot(x2, y, label='Quadratic')\n",
        "plt.plot(x3, y,label='Cubic')\n",
        "plt.xlabel('x array values')\n",
        "plt.ylabel('Corresponding indices')\n",
        "plt.legend()\n",
        "plt.title('Matplotlib examples')\n",
        "plt.show()"
      ],
      "execution_count": 34,
      "outputs": [
        {
          "output_type": "display_data",
          "data": {
            "image/png": "[encoded data removed]",
            "text/plain": [
              "<Figure size 432x288 with 1 Axes>"
            ]
          },
          "metadata": {
            "tags": [],
            "needs_background": "light"
          }
        }
      ]
    },
    {
      "cell_type": "markdown",
      "metadata": {
        "id": "C0SEEZUBAXtu"
      },
      "source": [
        "### Task 2\n",
        "Use the Iris dataset to create a scatter plot of 2 of its features. (Hint: Take indices of the features to be plotted as 0 and 1). Use a function formatter to label a colorbar with the correct target names. Scatter and colorbar are functions of matplotlib. The plot should include labels for the x and y axis."
      ]
    },
    {
      "cell_type": "code",
      "metadata": {
        "colab": {
          "base_uri": "https://localhost:8080/",
          "height": 283
        },
        "id": "Z2mj3pwmAd3W",
        "outputId": "0734a4d1-2e5b-41f0-f3b8-1dcb3ea373d5"
      },
      "source": [
        "plt.scatter(data.data[:,0], data.data[:,1], c=data.target)\n",
        "plt.colorbar(ticks=[0,1,2])\n",
        "plt.xlabel(data.feature_names[0])\n",
        "plt.ylabel(data.feature_names[1])\n",
        "plt.show()"
      ],
      "execution_count": 48,
      "outputs": [
        {
          "output_type": "display_data",
          "data": {
            "image/png": "[encoded data removed]",
            "text/plain": [
              "<Figure size 432x288 with 2 Axes>"
            ]
          },
          "metadata": {
            "tags": [],
            "needs_background": "light"
          }
        }
      ]
    },
    {
      "cell_type": "markdown",
      "metadata": {
        "id": "_2TlmkKgC1KM"
      },
      "source": [
        "## K-Means Clustering with scikit learn\n",
        "\n",
        "### Task 1\n",
        "K-Means Clustering: K-means clustering is one of the simplest unsupervised machine learning algorithms. A cluster refers to a collection of data points aggregated together because of certain similarities. The task is to apply K-Means clustering on the Iris dataset (ignoring the output labels since clustering is unsupervised). Try K values in the range [1,..,10] and plot a graph of Error vs No. of Clusters. Based on the results of your plot, find the appropriate value of K (assuming no prior knowledge of class information). Error for a single K value can be calculated by below piece of code. \n",
        "\n",
        "***cluster  = KMeans(n_clusters = K).fit(x)***\n",
        "\n",
        "***Error = cluster.inertia_***"
      ]
    },
    {
      "cell_type": "code",
      "metadata": {
        "colab": {
          "base_uri": "https://localhost:8080/",
          "height": 312
        },
        "id": "4DocjpQlC0S8",
        "outputId": "5791c615-4dea-44ad-a3c0-8134cb2ae2c1"
      },
      "source": [
        "from sklearn.cluster import KMeans\n",
        "\n",
        "error = []\n",
        "\n",
        "for i in range(1, 11):\n",
        "  cluster = KMeans(n_clusters=i).fit(X)\n",
        "  error.append(cluster.inertia_)\n",
        "\n",
        "plt.plot(range(1,11), error)\n",
        "plt.title('Elbow method')\n",
        "plt.xlabel('No of clusters')\n",
        "plt.ylabel('Error')\n",
        "plt.show()\n",
        "print(\"Based on the graph the appropriate K value should be 3 following the Elbow Method\")"
      ],
      "execution_count": 52,
      "outputs": [
        {
          "output_type": "display_data",
          "data": {
            "image/png": "[encoded data removed]",
            "text/plain": [
              "<Figure size 432x288 with 1 Axes>"
            ]
          },
          "metadata": {
            "tags": [],
            "needs_background": "light"
          }
        },
        {
          "output_type": "stream",
          "text": [
            "Based on the graph the appropriate K value should be 4\n"
          ],
          "name": "stdout"
        }
      ]
    },
    {
      "cell_type": "markdown",
      "metadata": {
        "id": "9TbU_x1pFoLp"
      },
      "source": [
        "## KNN\n",
        "\n",
        "### Task 2\n",
        "\n",
        "K-Nearest Neighbor KNN is a simple supervised classification algorithm used to assign a class label to a new data point. KNN does not make any assumptions on the data distribution, hence it is non-parametric. It requires all the training data to make future predictions by computing the distance (similarity) between an input test sample and each of the training data samples. Scikit-learn has an inbuilt class for performing KNN.The documentation is here https://scikit-learn.org/stable/modules/generated/sklearn.neighbors.KNeighborsClassifier.html\n",
        "Perform KNN on the Iris dataset as follows. Split the data into train and test sets. Fit and test the model for different values of `k' (number of neighbors). Take 'k' in a range of [1,2,3...24,25] and record the testing accuracy for each value of k in a list. Plot all the values of testing accuracy against the value of k."
      ]
    },
    {
      "cell_type": "code",
      "metadata": {
        "id": "t4mev46IFjrx"
      },
      "source": [
        "from sklearn.neighbors import KNeighborsClassifier\n",
        "from sklearn import metrics\n",
        "\n",
        "scores_list = []\n",
        "for k in range(1,26):\n",
        "  knn = KNeighborsClassifier(n_neighbors=k)\n",
        "  knn.fit(X_train, y_train)\n",
        "  y_pred = knn.predict(X_test)\n",
        "  scores_list.append(metrics.accuracy_score(y_test, y_pred))\n"
      ],
      "execution_count": 64,
      "outputs": []
    },
    {
      "cell_type": "code",
      "metadata": {
        "colab": {
          "base_uri": "https://localhost:8080/",
          "height": 279
        },
        "id": "QsUDb3b3HQ-I",
        "outputId": "023d00b4-1bbe-4b38-c4a6-06c92ed8f206"
      },
      "source": [
        "plt.plot(range(1,26), scores_list)\n",
        "plt.xlabel('Value of K')\n",
        "plt.ylabel(\"Testing Accuracy\")\n",
        "plt.show()"
      ],
      "execution_count": 66,
      "outputs": [
        {
          "output_type": "display_data",
          "data": {
            "image/png": "[encoded data removed]",
            "text/plain": [
              "<Figure size 432x288 with 1 Axes>"
            ]
          },
          "metadata": {
            "tags": [],
            "needs_background": "light"
          }
        }
      ]
    },
    {
      "cell_type": "markdown",
      "metadata": {
        "id": "SnLZ5-l6LgSF"
      },
      "source": [
        "## SVM on MNIST\n",
        "\n",
        "### Task 3\n",
        "\n",
        "Support Vector Machine (SVM) is a linear model for classification (or regression) that works well for many applications and can be extended to deal with non-linear problems. SVC is a class created by scikit-learn which is capable of performing binary and multi-class classification on a dataset with linear or radial kernels. The implementation of this class is based on libsvm which is a library for support vector machines. Its documentation is found here https://scikit-learn.org/stable/modules/generated/sklearn.svm.SVC.html#sklearn.svm. SVC Perform SVM classification on the MNIST dataset using the SVC function. MNIST is a popular dataset in computer vision consisting of handwritten digits. It has 10 classes, corresponding to digits from 0 to 9. The mnist train.csv file contains 60,000 training examples and labels. The mnist test.csv contains 10,000 test examples and labels. Each row consists of 785 values: the first value is the label (a number from 0 to 9) and the remaining 784 values are the pixel grayscale values (a number from 0 to 255). Load these using pandas. Separate the data and labels from the train and test set using the drop function as shown below.\n",
        "\n",
        "***y = train_data['label']***\n",
        "\n",
        "***X = train_data.drop(columns = 'label')***\n",
        "\n",
        "Perform scaling and normalization on the data in the pre-processing step. Perform classification using SVC with the kernel set to linear. Use the default values for the remaining parameters. Print the test accuracy and confusion matrix."
      ]
    },
    {
      "cell_type": "code",
      "metadata": {
        "id": "-Bj_MSp1K99v"
      },
      "source": [
        "import pandas as pd\n",
        "\n",
        "train_data = pd.read_csv('mnist_train.csv')\n",
        "test_data = pd.read_csv('mnist_test.csv')\n"
      ],
      "execution_count": 75,
      "outputs": []
    },
    {
      "cell_type": "code",
      "metadata": {
        "id": "-Z3fO0lUOGeb"
      },
      "source": [
        "y_train = train_data['label']\n",
        "X_train = train_data.drop(columns = 'label')\n",
        "y_test = test_data['label']\n",
        "X_test = test_data.drop(columns = 'label')"
      ],
      "execution_count": 76,
      "outputs": []
    },
    {
      "cell_type": "code",
      "metadata": {
        "id": "c0z1zU3oOOFS"
      },
      "source": [
        "X_train = X_train/255.0\n",
        "X_test = X_test/255.0"
      ],
      "execution_count": 77,
      "outputs": []
    },
    {
      "cell_type": "code",
      "metadata": {
        "id": "BUG3utyFOZUZ"
      },
      "source": [
        "from sklearn.preprocessing import scale\n",
        "X_train = scale(X_train)\n",
        "X_test = scale(X_test)"
      ],
      "execution_count": 78,
      "outputs": []
    },
    {
      "cell_type": "code",
      "metadata": {
        "colab": {
          "base_uri": "https://localhost:8080/"
        },
        "id": "Jow1V1j6OoDK",
        "outputId": "d95e9290-33f8-441c-a8b4-8a4aefb8a3a9"
      },
      "source": [
        "from sklearn.svm import SVC\n",
        "\n",
        "model = SVC(kernel='linear')\n",
        "history = model.fit(X_train, y_train)\n",
        "history"
      ],
      "execution_count": 79,
      "outputs": [
        {
          "output_type": "execute_result",
          "data": {
            "text/plain": [
              "SVC(C=1.0, break_ties=False, cache_size=200, class_weight=None, coef0=0.0,\n",
              "    decision_function_shape='ovr', degree=3, gamma='scale', kernel='linear',\n",
              "    max_iter=-1, probability=False, random_state=None, shrinking=True,\n",
              "    tol=0.001, verbose=False)"
            ]
          },
          "metadata": {
            "tags": []
          },
          "execution_count": 79
        }
      ]
    },
    {
      "cell_type": "code",
      "metadata": {
        "id": "vPxPr6I2Tli-"
      },
      "source": [
        "y_pred = model.predict(X_test)"
      ],
      "execution_count": 80,
      "outputs": []
    },
    {
      "cell_type": "code",
      "metadata": {
        "colab": {
          "base_uri": "https://localhost:8080/"
        },
        "id": "Ipt1xlS7UYSN",
        "outputId": "8c10e1e1-90bd-4b24-baa4-92fe5cbf1a13"
      },
      "source": [
        "print(metrics.accuracy_score(y_test, y_pred))\n",
        "print(metrics.confusion_matrix(y_test, y_pred))"
      ],
      "execution_count": 81,
      "outputs": [
        {
          "output_type": "stream",
          "text": [
            "0.928\n",
            "[[ 953    0    6    2    1    8    6    2    1    1]\n",
            " [   0 1118    7    2    0    1    2    1    4    0]\n",
            " [   9   12  956   11    9    4    5    5   18    3]\n",
            " [   7    1   15  940    0   17    1    6   19    4]\n",
            " [   3    2   18    1  927    0    3    6    3   19]\n",
            " [   7    6    7   40    5  791   12    1   20    3]\n",
            " [  14    3   17    1    9   19  892    0    3    0]\n",
            " [   2    8   23   14   11    2    0  945    2   21]\n",
            " [  11    7   10   29    8   23    8    6  860   12]\n",
            " [   9    7    6   11   38    5    0   23   12  898]]\n"
          ],
          "name": "stdout"
        }
      ]
    }
  ]
}